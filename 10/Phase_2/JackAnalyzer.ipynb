{
 "cells": [
  {
   "cell_type": "code",
   "execution_count": 1,
   "id": "92dc2a41",
   "metadata": {},
   "outputs": [
    {
     "name": "stdout",
     "output_type": "stream",
     "text": [
      "importing Jupyter notebook from JackTokenizer.ipynb\n",
      "importing Jupyter notebook from CompilationEngine.ipynb\n"
     ]
    }
   ],
   "source": [
    "import import_ipynb\n",
    "import os.path\n",
    "from JackTokenizer import JackTokenizer\n",
    "from CompilationEngine import CompilationEngine"
   ]
  },
  {
   "cell_type": "code",
   "execution_count": 2,
   "id": "4faf1926",
   "metadata": {},
   "outputs": [],
   "source": [
    "def compileFile(inPath):\n",
    "    outPath = inPath.replace('.jack', 'S.xml')\n",
    "    fileIn = open(inPath, 'r')\n",
    "    fileOut = open(outPath, 'w')\n",
    "    jackTokenizer = JackTokenizer(fileIn)\n",
    "    compilationEngine = CompilationEngine(jackTokenizer.getTokens(), fileOut)\n",
    "    fileIn.close()\n",
    "    fileOut.close()\n",
    "def main(path):\n",
    "    if os.path.isdir(path):\n",
    "        for root, dirs, files in os.walk(path):\n",
    "            for file in files:\n",
    "                if os.path.splitext(file)[1] == '.jack':\n",
    "                    compileFile(os.path.join(root , file))\n",
    "    if os.path.isfile(path):\n",
    "        compileFile(path)"
   ]
  },
  {
   "cell_type": "code",
   "execution_count": 3,
   "id": "d30c0d1c",
   "metadata": {},
   "outputs": [],
   "source": [
    "main('/Users/ceshi/Desktop/计算机系统要素/nand2tetris/projects/10/Square')"
   ]
  }
 ],
 "metadata": {
  "kernelspec": {
   "display_name": "Python 3",
   "language": "python",
   "name": "python3"
  },
  "language_info": {
   "codemirror_mode": {
    "name": "ipython",
    "version": 3
   },
   "file_extension": ".py",
   "mimetype": "text/x-python",
   "name": "python",
   "nbconvert_exporter": "python",
   "pygments_lexer": "ipython3",
   "version": "3.7.10"
  }
 },
 "nbformat": 4,
 "nbformat_minor": 5
}

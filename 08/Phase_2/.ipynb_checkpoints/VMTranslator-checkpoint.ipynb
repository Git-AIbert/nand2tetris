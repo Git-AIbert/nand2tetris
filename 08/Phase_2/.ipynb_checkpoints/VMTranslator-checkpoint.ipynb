{
 "cells": [
  {
   "cell_type": "code",
   "execution_count": 1,
   "id": "95d7efb3",
   "metadata": {},
   "outputs": [
    {
     "name": "stdout",
     "output_type": "stream",
     "text": [
      "importing Jupyter notebook from Parser.ipynb\n",
      "importing Jupyter notebook from CodeWriter.ipynb\n"
     ]
    }
   ],
   "source": [
    "import import_ipynb\n",
    "import os.path\n",
    "from Parser import Parser\n",
    "from CodeWriter import CodeWriter"
   ]
  },
  {
   "cell_type": "code",
   "execution_count": 2,
   "id": "e301a026",
   "metadata": {},
   "outputs": [],
   "source": [
    "def main(path):\n",
    "    inDir = [] # 输入文件名列表\n",
    "    outPath = '' # 输出文件名\n",
    "    if os.path.isdir(path):\n",
    "        for root, dirs, files in os.walk(path):\n",
    "            for file in files:\n",
    "                if os.path.splitext(file)[1] == '.vm':\n",
    "                    inDir.append(os.path.join(root , file))\n",
    "        outPath = path + '/' + path.split('/')[-1] + '.asm'\n",
    "    if os.path.isfile(path):\n",
    "        inDir.append(path)\n",
    "        outPath = path.replace('.vm', '.asm')\n",
    "\n",
    "    fileOut = open(outPath, 'w')\n",
    "    codeWriter = CodeWriter(fileOut)\n",
    "    command = 'C_INIT'\n",
    "    fileOut.write('\\n// ' + command + '\\n')\n",
    "    codeWriter.writeInit()\n",
    "    print(command)\n",
    "    functionName = ''\n",
    "    for inPath in inDir:\n",
    "        fileIn = open(inPath, 'r')\n",
    "        parser = Parser(fileIn)\n",
    "        while(parser.hasMoreCommands()):\n",
    "            parser.advance()\n",
    "            if parser.commandType() == 'C_ARITHMETIC':\n",
    "                command = parser.commandType() + ' ' + parser.arg1()\n",
    "                fileOut.write('\\n// ' + command + '\\n')\n",
    "                codeWriter.writeArithmetic(parser.arg1())\n",
    "            if parser.commandType() == 'C_PUSH' or parser.commandType() == 'C_POP':\n",
    "                offset = parser.arg2()\n",
    "                if parser.arg1() == 'static': # 如果是静态变量\n",
    "                    offset = inPath.split('/')[-1].split('.')[0] + '.' + parser.arg2()\n",
    "                command = parser.commandType() + ' ' + parser.arg1() + ' ' + offset\n",
    "                fileOut.write('\\n// ' + command + '\\n')\n",
    "                codeWriter.writePushPop(parser.commandType(), parser.arg1(), offset)\n",
    "            if parser.commandType() == 'C_LABEL':\n",
    "                functionName_label = functionName + '$' + parser.arg1()\n",
    "                command = parser.commandType() + ' ' + functionName_label\n",
    "                fileOut.write('\\n// ' + command + '\\n')\n",
    "                codeWriter.writeLabel(functionName_label)\n",
    "            if parser.commandType() == 'C_GOTO':\n",
    "                functionName_label = functionName + '$' + parser.arg1()\n",
    "                command = parser.commandType() + ' ' + functionName_label\n",
    "                fileOut.write('\\n// ' + command + '\\n')\n",
    "                codeWriter.writeGoto(functionName_label)\n",
    "            if parser.commandType() == 'C_IF':\n",
    "                functionName_label = functionName + '$' + parser.arg1()\n",
    "                command = parser.commandType() + ' ' + functionName_label\n",
    "                fileOut.write('\\n// ' + command + '\\n')\n",
    "                codeWriter.writeIf(functionName_label)\n",
    "            if parser.commandType() == 'C_CALL':\n",
    "                command = parser.commandType() + ' ' + parser.arg1() + ' ' + parser.arg2()\n",
    "                fileOut.write('\\n// ' + command + '\\n')\n",
    "                codeWriter.writeCall(parser.arg1(), parser.arg2())\n",
    "            if parser.commandType() == 'C_FUNCTION':\n",
    "                command = parser.commandType() + ' ' + parser.arg1() + ' ' + parser.arg2()\n",
    "                fileOut.write('\\n// ' + command + '\\n')\n",
    "                codeWriter.writeFunction(parser.arg1(), parser.arg2())\n",
    "                functionName = parser.arg1()\n",
    "            if parser.commandType() == 'C_RETURN':\n",
    "                command = parser.commandType()\n",
    "                fileOut.write('\\n// ' + command + '\\n')\n",
    "                codeWriter.writeReturn()\n",
    "            print(command)\n",
    "\n",
    "    codeWriter.close()"
   ]
  },
  {
   "cell_type": "code",
   "execution_count": 3,
   "id": "ecea65f9",
   "metadata": {},
   "outputs": [
    {
     "name": "stdout",
     "output_type": "stream",
     "text": [
      "C_INIT\n",
      "C_FUNCTION Main.fibonacci 0\n",
      "C_PUSH argument 0\n",
      "C_PUSH constant 2\n",
      "C_ARITHMETIC lt\n",
      "C_IF Main.fibonacci$IF_TRUE0\n",
      "C_GOTO Main.fibonacci$IF_FALSE0\n",
      "C_LABEL Main.fibonacci$IF_TRUE0\n",
      "C_PUSH argument 0\n",
      "C_RETURN\n",
      "C_LABEL Main.fibonacci$IF_FALSE0\n",
      "C_PUSH argument 0\n",
      "C_PUSH constant 2\n",
      "C_ARITHMETIC sub\n",
      "C_CALL Main.fibonacci 1\n",
      "C_PUSH argument 0\n",
      "C_PUSH constant 1\n",
      "C_ARITHMETIC sub\n",
      "C_CALL Main.fibonacci 1\n",
      "C_ARITHMETIC add\n",
      "C_RETURN\n",
      "C_FUNCTION Sys.init 0\n",
      "C_PUSH constant 4\n",
      "C_CALL Main.fibonacci 1\n",
      "C_LABEL Sys.init$WHILE0\n",
      "C_GOTO Sys.init$WHILE0\n"
     ]
    }
   ],
   "source": [
    "path = '/Users/ceshi/Desktop/计算机系统要素/nand2tetris/projects/08/FunctionCalls/FibonacciElement'\n",
    "main(path)"
   ]
  }
 ],
 "metadata": {
  "kernelspec": {
   "display_name": "Python 3",
   "language": "python",
   "name": "python3"
  },
  "language_info": {
   "codemirror_mode": {
    "name": "ipython",
    "version": 3
   },
   "file_extension": ".py",
   "mimetype": "text/x-python",
   "name": "python",
   "nbconvert_exporter": "python",
   "pygments_lexer": "ipython3",
   "version": "3.7.10"
  }
 },
 "nbformat": 4,
 "nbformat_minor": 5
}

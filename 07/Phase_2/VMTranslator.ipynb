{
 "cells": [
  {
   "cell_type": "code",
   "execution_count": 1,
   "id": "95d7efb3",
   "metadata": {},
   "outputs": [
    {
     "name": "stdout",
     "output_type": "stream",
     "text": [
      "importing Jupyter notebook from Parser.ipynb\n",
      "importing Jupyter notebook from CodeWriter.ipynb\n"
     ]
    }
   ],
   "source": [
    "import import_ipynb\n",
    "import os.path\n",
    "from Parser import Parser\n",
    "from CodeWriter import CodeWriter"
   ]
  },
  {
   "cell_type": "code",
   "execution_count": 2,
   "id": "e301a026",
   "metadata": {},
   "outputs": [],
   "source": [
    "def main(path):\n",
    "    inDir = [] # 输入文件名列表\n",
    "    outPath = '' # 输出文件名\n",
    "    if os.path.isdir(path):\n",
    "        for root, dirs, files in os.walk(path):\n",
    "            for file in files:\n",
    "                if os.path.splitext(file)[1] == '.vm':\n",
    "                    inDir.append(os.path.join(root , file))\n",
    "        outPath = path + '/' + path.split('/')[-1] + '.asm'\n",
    "    if os.path.isfile(path):\n",
    "        inDir.append(path)\n",
    "        outPath = path.replace('.vm', '.asm')\n",
    "\n",
    "    fileOut = open(outPath, 'w')\n",
    "    codeWriter = CodeWriter(fileOut)\n",
    "    for inPath in inDir:\n",
    "        fileIn = open(inPath, 'r')\n",
    "        parser = Parser(fileIn)\n",
    "        while(parser.hasMoreCommands()):\n",
    "            parser.advance()\n",
    "            if parser.commandType() == 'C_ARITHMETIC':\n",
    "                command = parser.commandType() + ' ' + parser.arg1()\n",
    "                fileOut.write('\\n// ' + command + '\\n')\n",
    "                codeWriter.writeArithmetic(parser.arg1())\n",
    "            if parser.commandType() == 'C_PUSH' or parser.commandType() == 'C_POP':\n",
    "                offset = parser.arg2()\n",
    "                if parser.arg1() == 'static': # 如果是静态变量\n",
    "                    offset = inPath.split('/')[-1].split('.')[0] + '.' + parser.arg2()\n",
    "                command = parser.commandType() + ' ' + parser.arg1() + ' ' + offset\n",
    "                fileOut.write('\\n// ' + command + '\\n')\n",
    "                codeWriter.writePushPop(parser.commandType(), parser.arg1(), offset)\n",
    "            print(command)\n",
    "\n",
    "    codeWriter.close()"
   ]
  },
  {
   "cell_type": "code",
   "execution_count": 3,
   "id": "1ae47e1e",
   "metadata": {},
   "outputs": [
    {
     "name": "stdout",
     "output_type": "stream",
     "text": [
      "C_PUSH constant 111\n",
      "C_PUSH constant 333\n",
      "C_PUSH constant 888\n",
      "C_POP static StaticTest.8\n",
      "C_POP static StaticTest.3\n",
      "C_POP static StaticTest.1\n",
      "C_PUSH static StaticTest.3\n",
      "C_PUSH static StaticTest.1\n",
      "C_ARITHMETIC sub\n",
      "C_PUSH static StaticTest.8\n",
      "C_ARITHMETIC add\n"
     ]
    }
   ],
   "source": [
    "path = '/Users/ceshi/Desktop/计算机系统要素/nand2tetris/projects/07/MemoryAccess/StaticTest/StaticTest.vm'\n",
    "main(path)"
   ]
  }
 ],
 "metadata": {
  "kernelspec": {
   "display_name": "Python 3",
   "language": "python",
   "name": "python3"
  },
  "language_info": {
   "codemirror_mode": {
    "name": "ipython",
    "version": 3
   },
   "file_extension": ".py",
   "mimetype": "text/x-python",
   "name": "python",
   "nbconvert_exporter": "python",
   "pygments_lexer": "ipython3",
   "version": "3.7.10"
  }
 },
 "nbformat": 4,
 "nbformat_minor": 5
}

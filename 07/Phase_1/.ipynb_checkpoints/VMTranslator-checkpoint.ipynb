{
 "cells": [
  {
   "cell_type": "code",
   "execution_count": 3,
   "id": "95d7efb3",
   "metadata": {},
   "outputs": [],
   "source": [
    "import import_ipynb\n",
    "from Parser import Parser\n",
    "from CodeWriter import CodeWriter"
   ]
  },
  {
   "cell_type": "code",
   "execution_count": 4,
   "id": "e301a026",
   "metadata": {},
   "outputs": [
    {
     "name": "stdout",
     "output_type": "stream",
     "text": [
      "C_PUSH constant 17\n",
      "C_PUSH constant 17\n",
      "C_ARITHMETIC eq\n",
      "C_PUSH constant 17\n",
      "C_PUSH constant 16\n",
      "C_ARITHMETIC eq\n",
      "C_PUSH constant 16\n",
      "C_PUSH constant 17\n",
      "C_ARITHMETIC eq\n",
      "C_PUSH constant 892\n",
      "C_PUSH constant 891\n",
      "C_ARITHMETIC lt\n",
      "C_PUSH constant 891\n",
      "C_PUSH constant 892\n",
      "C_ARITHMETIC lt\n",
      "C_PUSH constant 891\n",
      "C_PUSH constant 891\n",
      "C_ARITHMETIC lt\n",
      "C_PUSH constant 32767\n",
      "C_PUSH constant 32766\n",
      "C_ARITHMETIC gt\n",
      "C_PUSH constant 32766\n",
      "C_PUSH constant 32767\n",
      "C_ARITHMETIC gt\n",
      "C_PUSH constant 32766\n",
      "C_PUSH constant 32766\n",
      "C_ARITHMETIC gt\n",
      "C_PUSH constant 57\n",
      "C_PUSH constant 31\n",
      "C_PUSH constant 53\n",
      "C_ARITHMETIC add\n",
      "C_PUSH constant 112\n",
      "C_ARITHMETIC sub\n",
      "C_ARITHMETIC neg\n",
      "C_ARITHMETIC and\n",
      "C_PUSH constant 82\n",
      "C_ARITHMETIC or\n",
      "C_ARITHMETIC not\n"
     ]
    }
   ],
   "source": [
    "fileIn = open('/Users/ceshi/Desktop/计算机系统要素/nand2tetris/projects/07/StackArithmetic/StackTest/StackTest.vm', 'r')\n",
    "fileOut = open('/Users/ceshi/Desktop/计算机系统要素/nand2tetris/projects/07/StackArithmetic/StackTest/StackTest.asm', 'w')\n",
    "parser = Parser(fileIn)\n",
    "codeWriter = CodeWriter(fileOut)\n",
    "\n",
    "while(parser.hasMoreCommands()):\n",
    "    parser.advance()\n",
    "    str = parser.commandType()\n",
    "    if parser.commandType() == 'C_ARITHMETIC':\n",
    "        codeWriter.writeArithmetic(parser.arg1())\n",
    "        str = parser.commandType() + ' ' + parser.arg1()\n",
    "    else:\n",
    "        codeWriter.writePushPop(parser.commandType(), parser.arg1(), parser.arg2())\n",
    "        str = parser.commandType() + ' ' + parser.arg1() + ' ' + parser.arg2()\n",
    "    print(str)\n",
    "    \n",
    "codeWriter.close()"
   ]
  }
 ],
 "metadata": {
  "kernelspec": {
   "display_name": "Python 3",
   "language": "python",
   "name": "python3"
  },
  "language_info": {
   "codemirror_mode": {
    "name": "ipython",
    "version": 3
   },
   "file_extension": ".py",
   "mimetype": "text/x-python",
   "name": "python",
   "nbconvert_exporter": "python",
   "pygments_lexer": "ipython3",
   "version": "3.7.10"
  }
 },
 "nbformat": 4,
 "nbformat_minor": 5
}

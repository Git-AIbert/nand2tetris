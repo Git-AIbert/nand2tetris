{
 "cells": [
  {
   "cell_type": "code",
   "execution_count": 1,
   "id": "95d7efb3",
   "metadata": {},
   "outputs": [
    {
     "name": "stdout",
     "output_type": "stream",
     "text": [
      "importing Jupyter notebook from Parser.ipynb\n",
      "importing Jupyter notebook from CodeWriter.ipynb\n"
     ]
    }
   ],
   "source": [
    "import import_ipynb\n",
    "import os.path\n",
    "from Parser import Parser\n",
    "from CodeWriter import CodeWriter"
   ]
  },
  {
   "cell_type": "code",
   "execution_count": 2,
   "id": "caa92dbe",
   "metadata": {},
   "outputs": [],
   "source": [
    "def main(path):\n",
    "    inDir = [] # 输入文件名列表\n",
    "    outPath = '' # 输出文件名\n",
    "    if os.path.isdir(path):\n",
    "        for root, dirs, files in os.walk(path):\n",
    "            for file in files:\n",
    "                if os.path.splitext(file)[1] == '.vm':\n",
    "                    inDir.append(os.path.join(root , file))\n",
    "        outPath = path + '/' + path.split('/')[-1] + '.asm'\n",
    "    if os.path.isfile(path):\n",
    "        inDir.append(path)\n",
    "        outPath = path.replace('.vm', '.asm')\n",
    "\n",
    "    fileOut = open(outPath, 'w')\n",
    "    codeWriter = CodeWriter(fileOut)\n",
    "    for inPath in inDir:\n",
    "        fileIn = open(inPath, 'r')\n",
    "        parser = Parser(fileIn)\n",
    "        while(parser.hasMoreCommands()):\n",
    "            parser.advance()\n",
    "            if parser.commandType() == 'C_ARITHMETIC':\n",
    "                command = parser.commandType() + ' ' + parser.arg1()\n",
    "                fileOut.write('\\n// ' + command + '\\n')\n",
    "                codeWriter.writeArithmetic(parser.arg1())\n",
    "            if parser.commandType() == 'C_PUSH' or parser.commandType() == 'C_POP':\n",
    "                offset = parser.arg2()\n",
    "                if parser.arg1() == 'static': # 如果是静态变量\n",
    "                    offset = inPath.split('/')[-1].split('.')[0] + '.' + parser.arg2()\n",
    "                command = parser.commandType() + ' ' + parser.arg1() + ' ' + offset\n",
    "                fileOut.write('\\n// ' + command + '\\n')\n",
    "                codeWriter.writePushPop(parser.commandType(), parser.arg1(), offset)\n",
    "            print(command)\n",
    "\n",
    "    codeWriter.close()"
   ]
  },
  {
   "cell_type": "code",
   "execution_count": 3,
   "id": "9d61c28e",
   "metadata": {},
   "outputs": [
    {
     "name": "stdout",
     "output_type": "stream",
     "text": [
      "C_PUSH constant 17\n",
      "C_PUSH constant 17\n",
      "C_ARITHMETIC eq\n",
      "C_PUSH constant 17\n",
      "C_PUSH constant 16\n",
      "C_ARITHMETIC eq\n",
      "C_PUSH constant 16\n",
      "C_PUSH constant 17\n",
      "C_ARITHMETIC eq\n",
      "C_PUSH constant 892\n",
      "C_PUSH constant 891\n",
      "C_ARITHMETIC lt\n",
      "C_PUSH constant 891\n",
      "C_PUSH constant 892\n",
      "C_ARITHMETIC lt\n",
      "C_PUSH constant 891\n",
      "C_PUSH constant 891\n",
      "C_ARITHMETIC lt\n",
      "C_PUSH constant 32767\n",
      "C_PUSH constant 32766\n",
      "C_ARITHMETIC gt\n",
      "C_PUSH constant 32766\n",
      "C_PUSH constant 32767\n",
      "C_ARITHMETIC gt\n",
      "C_PUSH constant 32766\n",
      "C_PUSH constant 32766\n",
      "C_ARITHMETIC gt\n",
      "C_PUSH constant 57\n",
      "C_PUSH constant 31\n",
      "C_PUSH constant 53\n",
      "C_ARITHMETIC add\n",
      "C_PUSH constant 112\n",
      "C_ARITHMETIC sub\n",
      "C_ARITHMETIC neg\n",
      "C_ARITHMETIC and\n",
      "C_PUSH constant 82\n",
      "C_ARITHMETIC or\n",
      "C_ARITHMETIC not\n"
     ]
    }
   ],
   "source": [
    "main('/Users/ceshi/Desktop/计算机系统要素/nand2tetris/projects/07/StackArithmetic/StackTest/StackTest.vm')"
   ]
  }
 ],
 "metadata": {
  "kernelspec": {
   "display_name": "Python 3",
   "language": "python",
   "name": "python3"
  },
  "language_info": {
   "codemirror_mode": {
    "name": "ipython",
    "version": 3
   },
   "file_extension": ".py",
   "mimetype": "text/x-python",
   "name": "python",
   "nbconvert_exporter": "python",
   "pygments_lexer": "ipython3",
   "version": "3.7.10"
  }
 },
 "nbformat": 4,
 "nbformat_minor": 5
}

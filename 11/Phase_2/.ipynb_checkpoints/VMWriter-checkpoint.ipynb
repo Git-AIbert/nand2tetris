{
 "cells": [
  {
   "cell_type": "code",
   "execution_count": 1,
   "id": "ba3c3a26",
   "metadata": {},
   "outputs": [],
   "source": [
    "class VMWriter:\n",
    "    def __init__(self, file):\n",
    "        self.file = file\n",
    "        self.code = ''\n",
    "        return\n",
    "    \n",
    "    def writePush(self, segment, index):\n",
    "        self.code += 'push {} {}\\n'.format(segment,index)\n",
    "        print('push {} {}'.format(segment,index))\n",
    "        return\n",
    "    \n",
    "    def writePop(self, segment, index):\n",
    "        self.code += 'pop {} {}\\n'.format(segment,index)\n",
    "        print('pop {} {}'.format(segment,index))\n",
    "        return\n",
    "    \n",
    "    def writeArithmetic(self, command):\n",
    "        self.code += command + '\\n'\n",
    "        print(command)\n",
    "        return\n",
    "    \n",
    "    def writeLabel(self, label):\n",
    "        self.code += 'label {}\\n'.format(label)\n",
    "        print('label {}'.format(label))\n",
    "        return\n",
    "    \n",
    "    def writeGoto(self, label):\n",
    "        self.code += 'goto {}\\n'.format(label)\n",
    "        print('goto {}'.format(label))\n",
    "        return\n",
    "    \n",
    "    def writeIf(self, label):\n",
    "        self.code += 'if-goto {}\\n'.format(label)\n",
    "        print('if-goto {}'.format(label))\n",
    "        return\n",
    "    \n",
    "    def writeCall(self, name, nArgs):\n",
    "        self.code += 'call {} {}\\n'.format(name, nArgs)\n",
    "        print('call {} {}'.format(name, nArgs))\n",
    "        return\n",
    "    \n",
    "    def writeFunction(self, name, nArgs):\n",
    "        self.code += 'function {} {}\\n'.format(name, nArgs)\n",
    "        print('function {} {}'.format(name, nArgs))\n",
    "        return\n",
    "    \n",
    "    def writeReturn(self):\n",
    "        self.code += 'return\\n'\n",
    "        print('return')\n",
    "        return\n",
    "    \n",
    "    def close(self):\n",
    "        self.file.write(self.code)\n",
    "#         self.file.close()\n",
    "        return"
   ]
  }
 ],
 "metadata": {
  "kernelspec": {
   "display_name": "Python 3",
   "language": "python",
   "name": "python3"
  },
  "language_info": {
   "codemirror_mode": {
    "name": "ipython",
    "version": 3
   },
   "file_extension": ".py",
   "mimetype": "text/x-python",
   "name": "python",
   "nbconvert_exporter": "python",
   "pygments_lexer": "ipython3",
   "version": "3.7.10"
  }
 },
 "nbformat": 4,
 "nbformat_minor": 5
}

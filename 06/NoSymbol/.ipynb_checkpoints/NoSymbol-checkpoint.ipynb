{
 "cells": [
  {
   "cell_type": "code",
   "execution_count": 1,
   "id": "12f1c0e1",
   "metadata": {
    "scrolled": true
   },
   "outputs": [
    {
     "name": "stdout",
     "output_type": "stream",
     "text": [
      "importing Jupyter notebook from Parser.ipynb\n",
      "importing Jupyter notebook from Code.ipynb\n"
     ]
    }
   ],
   "source": [
    "import import_ipynb\n",
    "from Parser import Parser\n",
    "from Code import Code"
   ]
  },
  {
   "cell_type": "code",
   "execution_count": 2,
   "id": "dbb4cf52",
   "metadata": {},
   "outputs": [],
   "source": [
    "def NoSymbol(filename):\n",
    "    parser = Parser('../' + filename + '.asm')\n",
    "    code = Code()\n",
    "    mLanguage = ''\n",
    "\n",
    "    while(parser.hasMoreCommands()):\n",
    "        parser.advance()\n",
    "        if parser.commandType() == 'A_COMMAND':\n",
    "            mLanguage = mLanguage + code.symbol(parser.symbol()).zfill(16) + '\\n'\n",
    "\n",
    "        if parser.commandType() == 'C_COMMAND':\n",
    "            mLanguage = mLanguage + '111' + code.comp(parser.comp()) + code.dest(parser.dest()) + code.jump(parser.jump()) + '\\n'\n",
    "    \n",
    "    print(mLanguage)\n",
    "    with open('../' + filename + '1.hack', 'w') as file_object:\n",
    "        file_object.write(mLanguage)"
   ]
  },
  {
   "cell_type": "code",
   "execution_count": 3,
   "id": "5f3cb07b",
   "metadata": {},
   "outputs": [
    {
     "ename": "TypeError",
     "evalue": "'>=' not supported between instances of 'str' and 'int'",
     "output_type": "error",
     "traceback": [
      "\u001b[0;31m---------------------------------------------------------------------------\u001b[0m",
      "\u001b[0;31mTypeError\u001b[0m                                 Traceback (most recent call last)",
      "\u001b[0;32m<ipython-input-3-7961d1ff2ca8>\u001b[0m in \u001b[0;36m<module>\u001b[0;34m\u001b[0m\n\u001b[0;32m----> 1\u001b[0;31m \u001b[0mNoSymbol\u001b[0m\u001b[0;34m(\u001b[0m\u001b[0;34m'pong/PongL'\u001b[0m\u001b[0;34m)\u001b[0m\u001b[0;34m\u001b[0m\u001b[0;34m\u001b[0m\u001b[0m\n\u001b[0m",
      "\u001b[0;32m<ipython-input-2-5145f37fd7b0>\u001b[0m in \u001b[0;36mNoSymbol\u001b[0;34m(filename)\u001b[0m\n\u001b[1;32m      7\u001b[0m         \u001b[0mparser\u001b[0m\u001b[0;34m.\u001b[0m\u001b[0madvance\u001b[0m\u001b[0;34m(\u001b[0m\u001b[0;34m)\u001b[0m\u001b[0;34m\u001b[0m\u001b[0;34m\u001b[0m\u001b[0m\n\u001b[1;32m      8\u001b[0m         \u001b[0;32mif\u001b[0m \u001b[0mparser\u001b[0m\u001b[0;34m.\u001b[0m\u001b[0mcommandType\u001b[0m\u001b[0;34m(\u001b[0m\u001b[0;34m)\u001b[0m \u001b[0;34m==\u001b[0m \u001b[0;34m'A_COMMAND'\u001b[0m\u001b[0;34m:\u001b[0m\u001b[0;34m\u001b[0m\u001b[0;34m\u001b[0m\u001b[0m\n\u001b[0;32m----> 9\u001b[0;31m             \u001b[0mmLanguage\u001b[0m \u001b[0;34m=\u001b[0m \u001b[0mmLanguage\u001b[0m \u001b[0;34m+\u001b[0m \u001b[0mcode\u001b[0m\u001b[0;34m.\u001b[0m\u001b[0msymbol\u001b[0m\u001b[0;34m(\u001b[0m\u001b[0mparser\u001b[0m\u001b[0;34m.\u001b[0m\u001b[0msymbol\u001b[0m\u001b[0;34m(\u001b[0m\u001b[0;34m)\u001b[0m\u001b[0;34m)\u001b[0m\u001b[0;34m.\u001b[0m\u001b[0mzfill\u001b[0m\u001b[0;34m(\u001b[0m\u001b[0;36m16\u001b[0m\u001b[0;34m)\u001b[0m \u001b[0;34m+\u001b[0m \u001b[0;34m'\\n'\u001b[0m\u001b[0;34m\u001b[0m\u001b[0;34m\u001b[0m\u001b[0m\n\u001b[0m\u001b[1;32m     10\u001b[0m \u001b[0;34m\u001b[0m\u001b[0m\n\u001b[1;32m     11\u001b[0m         \u001b[0;32mif\u001b[0m \u001b[0mparser\u001b[0m\u001b[0;34m.\u001b[0m\u001b[0mcommandType\u001b[0m\u001b[0;34m(\u001b[0m\u001b[0;34m)\u001b[0m \u001b[0;34m==\u001b[0m \u001b[0;34m'C_COMMAND'\u001b[0m\u001b[0;34m:\u001b[0m\u001b[0;34m\u001b[0m\u001b[0;34m\u001b[0m\u001b[0m\n",
      "\u001b[0;32m~/Desktop/计算机系统要素/nand2tetris/projects/06/NoSymbol/Code.ipynb\u001b[0m in \u001b[0;36msymbol\u001b[0;34m(self, symbol)\u001b[0m\n",
      "\u001b[0;31mTypeError\u001b[0m: '>=' not supported between instances of 'str' and 'int'"
     ]
    }
   ],
   "source": [
    "NoSymbol('pong/PongL')"
   ]
  }
 ],
 "metadata": {
  "kernelspec": {
   "display_name": "Python 3",
   "language": "python",
   "name": "python3"
  },
  "language_info": {
   "codemirror_mode": {
    "name": "ipython",
    "version": 3
   },
   "file_extension": ".py",
   "mimetype": "text/x-python",
   "name": "python",
   "nbconvert_exporter": "python",
   "pygments_lexer": "ipython3",
   "version": "3.7.10"
  }
 },
 "nbformat": 4,
 "nbformat_minor": 5
}

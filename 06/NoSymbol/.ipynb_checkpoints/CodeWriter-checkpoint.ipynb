{
 "cells": [
  {
   "cell_type": "code",
   "execution_count": 9,
   "id": "9111985e",
   "metadata": {},
   "outputs": [],
   "source": [
    "class CodeWriter:\n",
    "    def __init__(self, file):\n",
    "        self.file = file\n",
    "    \n",
    "    def setFileName(self, filename):\n",
    "        self.file = open(filename, w)\n",
    "        \n",
    "    def writeArithmetic(self, Command):\n",
    "        return\n",
    "        \n",
    "    def writePushPop(self, Command, segment, index):\n",
    "        if Command == 'C_PUSH' and segment == 'constant':\n",
    "            code = '@' + str(index) + '\\n'\n",
    "            code = code + 'D = A\\n'\n",
    "            code = code + '@SP\\n'\n",
    "            code = code + 'A = M\\n'\n",
    "            code = code + 'M = D\\n'\n",
    "        self.file.write(code)\n",
    "        return\n",
    "        \n",
    "    def close(self):\n",
    "        return\n",
    "        \n",
    "file = open('/Users/ceshi/Desktop/计算机系统要素/nand2tetris/projects/07/StackArithmetic/SimpleAdd/SimpleAdd.asm', 'w')\n",
    "codeWriter = CodeWriter(file)"
   ]
  }
 ],
 "metadata": {
  "kernelspec": {
   "display_name": "Python 3",
   "language": "python",
   "name": "python3"
  },
  "language_info": {
   "codemirror_mode": {
    "name": "ipython",
    "version": 3
   },
   "file_extension": ".py",
   "mimetype": "text/x-python",
   "name": "python",
   "nbconvert_exporter": "python",
   "pygments_lexer": "ipython3",
   "version": "3.7.10"
  }
 },
 "nbformat": 4,
 "nbformat_minor": 5
}

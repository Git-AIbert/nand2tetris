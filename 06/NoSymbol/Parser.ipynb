{
 "cells": [
  {
   "cell_type": "code",
   "execution_count": 154,
   "id": "fdef463a",
   "metadata": {},
   "outputs": [],
   "source": [
    "import re\n",
    "\n",
    "class Parser:\n",
    "    instructions = []\n",
    "    pc = -1\n",
    "    length = 0\n",
    "\n",
    "    def __init__(self, path):\n",
    "        f = open(path, \"r\")\n",
    "        for line in f.readlines():\n",
    "            line = line.strip()\n",
    "            if (line == '' or re.match(r'^(\\/\\/)',line)):\n",
    "                continue\n",
    "            line = re.sub(r'(\\/\\/).*', '',line).strip()\n",
    "            self.instructions.append(line)\n",
    "            self.length = self.length + 1\n",
    "\n",
    "    def hasMoreCommands(self):\n",
    "        return self.pc < self.length - 1\n",
    "\n",
    "    def advance(self):\n",
    "        self.pc = self.pc + 1\n",
    "\n",
    "    def commandType(self):\n",
    "        if self.instructions[self.pc][0] == '@':\n",
    "            return 'A_COMMAND'\n",
    "        if self.instructions[self.pc][0] == '(':\n",
    "            return 'L_COMMAND'\n",
    "\n",
    "        return 'C_COMMAND'\n",
    "\n",
    "    def symbol(self):\n",
    "        return self.instructions[self.pc][1:]\n",
    "\n",
    "    def dest(self):\n",
    "        if '=' in self.instructions[self.pc]:\n",
    "            return self.instructions[self.pc].split('=')[0].strip()\n",
    "        return ''\n",
    "\n",
    "    def comp(self):\n",
    "        comp = self.instructions[self.pc]\n",
    "        if '=' in comp:\n",
    "            comp = comp.split('=')[1].strip()\n",
    "        if ';' in comp:\n",
    "            comp = comp.split(';')[0].strip()\n",
    "        comp = ''.join(comp.split(' ')) # 删除空格\n",
    "        return comp\n",
    "\n",
    "    def jump(self):\n",
    "        if ';' in self.instructions[self.pc]:\n",
    "            return self.instructions[self.pc].split(';')[1].strip()\n",
    "        return ''"
   ]
  }
 ],
 "metadata": {
  "kernelspec": {
   "display_name": "Python 3",
   "language": "python",
   "name": "python3"
  },
  "language_info": {
   "codemirror_mode": {
    "name": "ipython",
    "version": 3
   },
   "file_extension": ".py",
   "mimetype": "text/x-python",
   "name": "python",
   "nbconvert_exporter": "python",
   "pygments_lexer": "ipython3",
   "version": "3.7.10"
  }
 },
 "nbformat": 4,
 "nbformat_minor": 5
}

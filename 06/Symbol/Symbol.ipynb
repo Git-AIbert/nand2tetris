{
 "cells": [
  {
   "cell_type": "code",
   "execution_count": 1,
   "id": "33f6078a",
   "metadata": {},
   "outputs": [
    {
     "name": "stdout",
     "output_type": "stream",
     "text": [
      "importing Jupyter notebook from Parser.ipynb\n",
      "importing Jupyter notebook from Code.ipynb\n",
      "importing Jupyter notebook from SymbolTable.ipynb\n"
     ]
    }
   ],
   "source": [
    "import import_ipynb\n",
    "from Parser import Parser\n",
    "from Code import Code\n",
    "from SymbolTable import SymbolTable"
   ]
  },
  {
   "cell_type": "code",
   "execution_count": 2,
   "id": "6c4304a0",
   "metadata": {},
   "outputs": [],
   "source": [
    "def Symbol(filename):\n",
    "    parser = Parser('../' + filename + '.asm')\n",
    "    code = Code()\n",
    "    symbolTable = SymbolTable()\n",
    "    mLanguage = ''\n",
    "    ROM_address = 0\n",
    "    RAM_address = 16\n",
    "\n",
    "    # 第一遍读取阶段\n",
    "    while(parser.hasMoreCommands()):\n",
    "        parser.advance()\n",
    "        if parser.commandType() == 'A_COMMAND' or parser.commandType() == 'C_COMMAND':\n",
    "            ROM_address = ROM_address + 1\n",
    "        if parser.commandType() == 'L_COMMAND':\n",
    "            symbolTable.addEntry(parser.symbol(), str(ROM_address))\n",
    "    \n",
    "    # 第二遍读取阶段\n",
    "    while(parser.hasMoreCommands()):\n",
    "        parser.advance() \n",
    "        if parser.commandType() == 'A_COMMAND':\n",
    "            if parser.symbol()[0] >= '0' and parser.symbol()[0] <= '9': # 是数字\n",
    "                mLanguage = mLanguage + code.symbol(parser.symbol()).zfill(16) + '\\n'\n",
    "            else: # 是符号\n",
    "                if symbolTable.contains(parser.symbol()):\n",
    "                    mLanguage = mLanguage + code.symbol(symbolTable.GetAddress(parser.symbol())).zfill(16) + '\\n'\n",
    "                else:\n",
    "                    symbolTable.addEntry(parser.symbol(), str(RAM_address))\n",
    "                    RAM_address = RAM_address + 1\n",
    "                    mLanguage = mLanguage + code.symbol(symbolTable.GetAddress(parser.symbol())).zfill(16) + '\\n'\n",
    "                    \n",
    "        if parser.commandType() == 'C_COMMAND':\n",
    "            mLanguage = mLanguage + '111' + code.comp(parser.comp()) + code.dest(parser.dest()) + code.jump(parser.jump()) + '\\n'\n",
    "    \n",
    "    print(mLanguage)\n",
    "    with open('../' + filename + '1.hack', 'w') as file_object:\n",
    "        file_object.write(mLanguage)"
   ]
  },
  {
   "cell_type": "code",
   "execution_count": 3,
   "id": "f3ca638b",
   "metadata": {},
   "outputs": [
    {
     "name": "stdout",
     "output_type": "stream",
     "text": [
      "0000000000000000\n",
      "1111110000010000\n",
      "0000000000010111\n",
      "1110001100000110\n",
      "0000000000010000\n",
      "1110001100001000\n",
      "0100000000000000\n",
      "1110110000010000\n",
      "0000000000010001\n",
      "1110001100001000\n",
      "0000000000010001\n",
      "1111110000100000\n",
      "1110111010001000\n",
      "0000000000010001\n",
      "1111110000010000\n",
      "0000000000100000\n",
      "1110000010010000\n",
      "0000000000010001\n",
      "1110001100001000\n",
      "0000000000010000\n",
      "1111110010011000\n",
      "0000000000001010\n",
      "1110001100000001\n",
      "0000000000010111\n",
      "1110101010000111\n",
      "\n"
     ]
    }
   ],
   "source": [
    "Symbol('rect/Rect')"
   ]
  }
 ],
 "metadata": {
  "kernelspec": {
   "display_name": "Python 3",
   "language": "python",
   "name": "python3"
  },
  "language_info": {
   "codemirror_mode": {
    "name": "ipython",
    "version": 3
   },
   "file_extension": ".py",
   "mimetype": "text/x-python",
   "name": "python",
   "nbconvert_exporter": "python",
   "pygments_lexer": "ipython3",
   "version": "3.7.10"
  }
 },
 "nbformat": 4,
 "nbformat_minor": 5
}

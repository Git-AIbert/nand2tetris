{
 "cells": [
  {
   "cell_type": "code",
   "execution_count": 11,
   "id": "ed773e7c",
   "metadata": {},
   "outputs": [],
   "source": [
    "class SymbolTable:\n",
    "    table = {\n",
    "        'SP': '0',\n",
    "        'LCL': '1',\n",
    "        'ARG': '2',\n",
    "        'THIS': '3',\n",
    "        'THAT': '4',\n",
    "        'SCREEN': '16384',\n",
    "        'KBD': '24576',\n",
    "    }\n",
    "    \n",
    "    def __init__(self):\n",
    "        for i in range(16):\n",
    "            self.table['R' + str(i)] = str(i)\n",
    "    \n",
    "    def addEntry(self, symbol, address):\n",
    "        self.table[symbol] = address\n",
    "    \n",
    "    def contains(self, symbol):\n",
    "        return symbol in self.table\n",
    "    \n",
    "    def GetAddress(self, symbol):\n",
    "        return self.table[symbol]"
   ]
  }
 ],
 "metadata": {
  "kernelspec": {
   "display_name": "Python 3",
   "language": "python",
   "name": "python3"
  },
  "language_info": {
   "codemirror_mode": {
    "name": "ipython",
    "version": 3
   },
   "file_extension": ".py",
   "mimetype": "text/x-python",
   "name": "python",
   "nbconvert_exporter": "python",
   "pygments_lexer": "ipython3",
   "version": "3.7.10"
  }
 },
 "nbformat": 4,
 "nbformat_minor": 5
}

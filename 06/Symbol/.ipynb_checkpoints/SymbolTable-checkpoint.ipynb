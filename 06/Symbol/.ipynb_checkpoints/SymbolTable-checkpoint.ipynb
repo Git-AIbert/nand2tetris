{
 "cells": [
  {
   "cell_type": "code",
   "execution_count": null,
   "id": "ed773e7c",
   "metadata": {},
   "outputs": [],
   "source": [
    "class SymbolTable:\n",
    "    table = {}\n",
    "    \n",
    "    def addEntry(self, symbol, address):\n",
    "        table[symbol] = address\n",
    "    \n",
    "    def contains(self, symbol):\n",
    "        return symbol in table\n",
    "    \n",
    "    def GetAddress(self, symbol):\n",
    "        return table[symbol]"
   ]
  }
 ],
 "metadata": {
  "kernelspec": {
   "display_name": "Python 3",
   "language": "python",
   "name": "python3"
  },
  "language_info": {
   "codemirror_mode": {
    "name": "ipython",
    "version": 3
   },
   "file_extension": ".py",
   "mimetype": "text/x-python",
   "name": "python",
   "nbconvert_exporter": "python",
   "pygments_lexer": "ipython3",
   "version": "3.7.10"
  }
 },
 "nbformat": 4,
 "nbformat_minor": 5
}
